{
  "nbformat": 4,
  "nbformat_minor": 0,
  "metadata": {
    "colab": {
      "provenance": []
    },
    "kernelspec": {
      "name": "python3",
      "display_name": "Python 3"
    },
    "language_info": {
      "name": "python"
    }
  },
  "cells": [
    {
      "cell_type": "markdown",
      "source": [
        "# TTS 로직"
      ],
      "metadata": {
        "id": "wbOfm6SiVWnV"
      }
    },
    {
      "cell_type": "code",
      "execution_count": 1,
      "metadata": {
        "colab": {
          "base_uri": "https://localhost:8080/"
        },
        "id": "vcoBm2n5VRDU",
        "outputId": "6105ab41-2b0f-4777-c0de-5618ac42657b"
      },
      "outputs": [
        {
          "output_type": "stream",
          "name": "stdout",
          "text": [
            "Collecting gtts\n",
            "  Downloading gTTS-2.4.0-py3-none-any.whl (29 kB)\n",
            "Requirement already satisfied: requests<3,>=2.27 in /usr/local/lib/python3.10/dist-packages (from gtts) (2.31.0)\n",
            "Requirement already satisfied: click<8.2,>=7.1 in /usr/local/lib/python3.10/dist-packages (from gtts) (8.1.7)\n",
            "Requirement already satisfied: charset-normalizer<4,>=2 in /usr/local/lib/python3.10/dist-packages (from requests<3,>=2.27->gtts) (3.3.2)\n",
            "Requirement already satisfied: idna<4,>=2.5 in /usr/local/lib/python3.10/dist-packages (from requests<3,>=2.27->gtts) (3.6)\n",
            "Requirement already satisfied: urllib3<3,>=1.21.1 in /usr/local/lib/python3.10/dist-packages (from requests<3,>=2.27->gtts) (2.0.7)\n",
            "Requirement already satisfied: certifi>=2017.4.17 in /usr/local/lib/python3.10/dist-packages (from requests<3,>=2.27->gtts) (2023.11.17)\n",
            "Installing collected packages: gtts\n",
            "Successfully installed gtts-2.4.0\n"
          ]
        }
      ],
      "source": [
        "!pip install gtts"
      ]
    },
    {
      "cell_type": "code",
      "source": [
        "import os\n",
        "import gtts\n",
        "import IPython.display"
      ],
      "metadata": {
        "id": "cIU_ec14VaE-"
      },
      "execution_count": 2,
      "outputs": []
    },
    {
      "cell_type": "code",
      "source": [
        "text = \"안녕하세요. 파이썬 수업입니다.\"\n",
        "\n",
        "tts = gtts.gTTS(text=text, lang='ko')\n",
        "tts.save(\"tts.mp3\")\n",
        "\n",
        "sound_file = 'tts.mp3'\n",
        "wn = IPython.display.Audio(sound_file, autoplay=True)\n",
        "IPython.display.display(wn)"
      ],
      "metadata": {
        "colab": {
          "base_uri": "https://localhost:8080/",
          "height": 75
        },
        "id": "YtkgiEa_VdAy",
        "outputId": "c372e2f2-aa39-4fc5-b3cc-cacb6368f315"
      },
      "execution_count": 3,
      "outputs": [
        {
          "output_type": "display_data",
          "data": {
            "text/plain": [
              "<IPython.lib.display.Audio object>"
            ],
            "text/html": [
              "\n",
              "                <audio  controls=\"controls\" autoplay=\"autoplay\">\n",
              "                    <source src=\"data:audio/mpeg;base64,//NExAAQwKowAUkYAEaNGjnPwgjRo0YrFYrFYbBAEAQBAUCgkQQd39ECAAGBgYGLcHzX/9/R/////8oCAgd4nBwEAQBAEAfB8HwfBwEAQBD+l31rjLx8X/c4yRXv/T4O//NExBAVgdKQAZhoABU/N6AtBICW+FrDnn0RrAlAcsZ/m6nQnDcyt/TqLjGtIvlwu/0EG6DmybsbK/6CDrf0XNzBN4Nf+s0CQrlwh/3p3YGZEpR7FAaBxIWCDeqc1W8e//NExA0V2WqwAc94AbRqLO5TCOF9HoDeEBNMYB3BeH6JoW0mpyEkE6DkN0DIrS5HmwQpsOD/G8aj7ve8DWb3trbJqBe8nkcPS3p/83xfX+831Hsc3p7o6rvxSnA+TG5+//NExAgRqR7EAU94Ae13C0YMdcJF+N5HwxQ1VZqNiDkU6AbDTeFUb7OW5C4Trvomp/JrNvW/m8GP4t7RMMnzTEPyXvD52u1WL32m7RBzpICK80CXP5OotzJYfh/C3mIL//NExBQUkTrMAY9gAXoaXMdglMC6WDMkrlAgnAvAcbHpuHyg7ojKsULrQQK1y2wHFDr9JaTvrYGm1iaHLOr1sbk59ruAwYBkG24HFc4iFbHGHSUIZEHJuGnE0VaAKOlc//NExBQU4UqkAdl4ADrdpFKaV2YRTW4zejU83TxYDNtWwWJ0+SYuKGJMsK6ZsK68WE+a3tItp6zM07LqqenexcQ3uq/7zrwYvFiozqXSHphfqFwEwRFNuHJ8ygeHhZBk//NExBMSkQqAANvMcIll5Q5TXfE5anZiQB9s7WcEA/WdqSOdS0232zQCIHSC6U/rM2YbSKMLRrVsoRDwl9fJf//9H3oVU4LjHFdQObgwEOSP0ZDCVAzUJYSEuEoOstb2//NExBsSaL58AN4YTGSYcbcpxH1WEUYWXzAGiELjTuvjeW6YozpDbfcGOSsJZMBGP0+/tR//qcwv9BRSgEcADKfI2wKIQAztoEjhNIz8gW8gJI6SyAcsnqV3ZoXUoAkJ//NExCQSOLqEAN4STBEKhQmEJxdtLztStQJPUUYKs1WUhYTnPYv3Vqk9vX/YB/1tDdfuJKeBYSUzgGeP6VBJa+JPEEYaF6IACjyGGmQW9Vn5z/chCDg+AYsRXq8jSMSh//NExC4RMRakANGKcNXnFww/OFBAUDCP7f/7kI9ViX//sM+psUJYoeAyisCXu/HSXDNKSApBwkhuvlu01P6NshO++XP31Z4PEDvA+fJQGnqcdFO31y6goXZxM6rq/uSs//NExDwSGVqwAMLMlCAxMePIEzxG3///pSrVlaQH3fPAto1KLEpCg+NdOu/gIMxCtiZHvMp2L7SZyNjYDEjnALiRE8PRzkpuzpJR0pFcOPyP20Hih3/fyTKBVHNI3LH2//NExEYSYV60AMrSlH///orG4xkGOpaAvtCL7Ck2f4ip+B3ICjUef6Uxz0W+xl7wfh02azt8I5kHuChu85dbB9Sg7KiCEEMI88fFRtXN5Q2GDo+Cj4nl1hBwQyyhEZKz//NExE8ROVK8AMPQlXKNkz1/haOc0xA8Gp+LF2wSJGKQFANtqHpDmgH8TqNW2/t5fFp86l9kOdN+xm6yESfr7Szv3f/aWE98ahRZ0FW/RP2ekUrXSgQe1uKJkjROeeFH//NExF0SUVawAMvSlcnViWhoJHD+FQREU4GlIqJuG2KtAtjKlWi2uxSVvmGNXNgKXDMUa+gtoZ0BpQi0SSgt////+pWW0zDTgiBmsHjAsPCcOuyCBJva0SWYXyEBeHEA//NExGYSUWqkANRKlNnHYLUJuAly8VRcBmbmT6ep9dZ1qi1Z7DYJjBhiBgPL+tLtCTdH////65VSw0eLsqjgoc31OsADA6R4y4cJagWB0yEwDR6+BfGIhQagBjZkMTkO//NExG8RgVKcANxElPD+L73SJvN8f4PrZmWl6KRA6FFhP5lEC3Q0oty21b1RD8Gkjc2iXLLSh0PQ+hPdSbPwO1cGmL6RIEhZEoYCFxCcCvkMwaCvV7nHvI/j3pquc5jd//NExHwRkV6sAMvGlaVlFvyDQmi1Kw1Laf/X5dMBVRT6I4LuRYGTRpVlwrHJVs42VmlLNgroyIJ9XZTPm43YlTiYmYjKEuJOFXZOueGS2YWt63ozfWbG8p9JoSkNc9Cc//NExIgSqVa4AMPMlVs/712TZyTHHoDIh////+rkiVoE6Q2nRUljMG/etYMjaMMN++Wi8xGCJZJN0Zg3qMzSuydQQxqKJwodrFFkf7ed2u58VZx3GtpfZu9wk2EjQmnV//NExJATQVq8AMPMlFW3ikmCmsiryxrztw2wV3qWVS6U3I0LCUyxu3CqbQqKh6K2Co7qa/65qaqbi24b6/0Vk///p//V87/po1GnzkrkZ2epmIqM8iqrvdZ7zvq7EkIR//NExJYQyR64AMPYcKc6nOc5xboc4vE6BAYLDAFDs7Ev9xv+L/fFWv///+Xr8ymdmZmZr07OT/7399OzOn8+8xdj3v2l+r7r0rKMOL2I6Obi+Ji530j2bA3P22LslpS9//NExKUXKwawAMIEuKeDmmjfNIz8vCwOFohkCJsSDtOVA4XAYkqOQFTiOpfESBGIrBYXhlUYib/////////////+oR27//va9bnn6l0kn7WtyxK9pt8TNWk4698Nm1Rt//NExJsbyxqoADBYvaIS85deORnKWQIpGdcaRwZXD+FD6yS0UyGKNow26lVf/////5j+v//8////7V9tXvTRlOqnixrIruPiKmUYPMpj1YeKnmKV1QXWQWmEosHimM9D//NExH4SUxq8AAgSvcOiDsBRqsRhw8wkchjlYgkLiQQqf///Wn/+D5Tls+u//TT/////8//v//6lGM1VGIwalxlMkFIM66jGqsPxmqkW3cTNVLaqxUljK1KhVgEKpc5S//NExIcRyw7AAAhKuWYM38KmDGAvgwQIYmZc2ezxXs6vvbGpPuFi3tb9s/oko1GGNjkCVQlCCq/9dYlKsF81Wp8jErjpUBQaK/WdLFlmTzf9up1Z01UEUG+aK7GY0Ahy//NExJIRQva4AAiGudGZoY8YJKkXw8GW6a265ft0xIJuCvW1YThCFQlXCjSnHA/DTZ1WXxYSa5UROOnFRDF2HcGGWNBAqiRl0VR1GQ4P5rxyQJiN4+0WME1ITczV3pXx//NExKAQmLKgAU8QAP3xEdMbWwx4krW5J5PTcM8LmMqX+Z0YjSEEaqDv/8zv6ipOGWiQBOmQxHIIF1hFAaRQyoKCGbevZoo8gtdQ131cpXRzn43k0dYP1Qm8dqhVSoSj//NExLAfgXqgAZl4AFKBUFzBlAz6D0kwA1xRkHJAeIKcLWKQPxEFtHqUsKG6HQT9BvnB+bZjTxHlKsK9VRLmXTU4Kxjc5b3Zj8YGhnewrY//8gAvh/9ykO0u//3fcj+t//NExIUhMZ6kAZl4AKySw0F4gU+dXHtNKJhZ6B0Qe6S5XaT5Hue+tlUyu7jrDvQ1csY4IJ8XQHKx1MDlQX1pmcmZlQnWJ3n13u3f365WZmuVo6w9sG0mkuS7Y4qHCADI//NExFMTmWqwAdhgAdNMHGm16P4glmAtBmyOkQituJ2atHK72p3DPNTRuF6WIK8cHTgGiuDISyU6gpyU8YJj2xUOjwybVL//7zndtb5M5tM601c1285cXfULuHUEYLYN//NExFcT+V6wAVhgARTGDM9gQBG2algDLhlEKskTjmDwbcilJgo9Z/rahizCGk6TpbDoRhX62qU4SkwiZgVQjTEN890cAZIJleG8GUTQnJLjVSCWZ3kCAXUvNNvoJYS9//NExFofiaKgAZl4ALJ3Jkfw3KzO/ibiopcssktXyocFewSaxj//+LXlxELf/p+39SosRE2BhhlEQAVABCtIkYAhgqqg8MvJhRAJJTRM5FDsTses402rllCA5h8mRFik//NExC4dYcKkAZl4ALz8NIB9Ik2QyAENdQ7KM50uS1O3tEOVeep5Ml8TixH1Rsh529eqc6FuFDeQ4b5geRI+XryJm/q2J+rhHtfOv//8////wTn+ugUA0yvJMFBCUixv//NExAsUwWq8AY94AM3z8SQLkGOMcGk0icHmfRzoWm10jSfHkQFhR6XmOQuSO2SM+nLMOPmPvfvmuN+24b/eb/OtarW24ta4z6Q7/PzB3qv+p7AX60qAw6excRBGm+wB//NExAsVGWa4AZh4AJU/Cg7ksYByITxuwOEt4eAwx/ili5hr4mBZGGhcDAvkfekK0/rfOKY+c/Ova1Mx82ifeaTazWt8vbVfzX3v2xe+c+FsGjxDrf1VqshLWSkRMgxQ//NExAkSMUawAdhoAOeTNOJrRcNsqKq12ZJrvOyJujfNcWS4jUSsasQK0OwzLCVQQSVs6S7dbXVqvWy1WVdRjLilutU3mLiQYRG3SCH+EMaNrQ0ySI9y5KlWNZKCB5Gs//NExBMSIWKoAMRMlQe+gGnGQYtJsX4CgDBII6FjYc0UVMmXWaUe1H/X3W/zH/zv/rnEhF8zXzoeEmRcXMoY8edJxatMFHS5sCVM9BKk5lHilaSREhoLUSsupChaBJQk//NExB0R+VasAMPKlYJIJOBICfDPUaegw67tn7+dbx/r/uiyd+m+VRlQgxHUTKcPRBUHNG255kj6AQ4GoSoRufiuXMgdPYDPk6qyAOHk9kB8VbukhGB08TWiX5a/nDVJ//NExCgR2WqoAMYElY3OY/z/3zPfO////1/1KhRMcdVcKdxJGFGKKdh3OGK1r4IzFc3sSJicFvKS6WQY9WCgA2iaCAUYmABgUpCgQGIBsSYrZjQnWQRqavW9erTNtttv//NExDMSqWagAM0KlJph44TNGkcTEkYVULHKEULHXl3M////QrktCpxtsNiNbe1hQ9duYtK0+jNyYD9Av6RIZQGxRMAggxqZiE47TcsH00vrW7f7MrU//q5iFZVZpghS//NExDsReVqkAMQElBRNQWaSecR////TgeAwtBcFwS1EMxwSFRlFVx4iX6oA6hVE5AlBZQZeCdEIQ6ELqlEobk6cqfrVU7u2pVM0Iv/7+mr2JOnwzohmBVVg/Wxl8yqd//NExEgRiWqcANRGlXqMdCam+gOmzpYFMWtAodNI24TiooxEUxXfFSEw0Q18Ou7b+1IZs3L/48/H9d7j3//LUm1aPXenWWulWnNEuCo5YV////0LeeBTZ0SISKADVAZM//NExFQSAV6UANYElIc0ebnoGEN4Q5LLxbgjwF0BxBuuCFlIPUtqZGt6tmEttSnlVrBVvoKjRg0ogSm0A2ZDTf////oqU0EdE64gBSzOHx5IYEYlcvmAlNnRIq1SdD8I//NExF8RAH6EANPeSIEgCisWwBVhut5x3106yI01qJaY2yPT/7VQ3CsoqWa0HXd1H///0FlSxWoEPNyzUlJmJt6hkgs0d5lMXNXM8z+nCUOoCwbIrD0PxSTSpY2vdLa0//NExG4RUTZwANMEcI9LW7v2tjVdlJmy//z1KLs2vG4xhVjAMjK//1f////9FQhC82J8uKQ7I5Ax83LGkSJYBBTQwopg1e5Ti0KAhEeNxh4sBQAxjxR2wwo8pmwrLM1K//NExHsSGV5MAMLGlKqBSy7oLOV6en/exJOioYoeCpS7qA1rvbU3K7QpAkCTKCHosKRSS4kgIMAgKyHIGChc28DBplIcCCDApWCusStNmDBgU3Ch7UHeR2pf8wAAQDAq//NExIUQuJ34AHmGTEsUFxd6QZO5YxzTvQYMVTT4PNoumjIWmURgRW5f0NQ23seealiDjT5OCI6aKiVE8lVJZWGc0hMoVkSrMlSWqIn4RNWkirVYSvFtkqz7Q5aGXWRX//NExJUUCJ3sAMJGTEi3FJjwzUMAlQpdKRqUdYcdSNS6K0Or0K0AgJgwE0Errs2BBVCgKqAqrNfVSUMcY+HT43tl7NAwpgwUlUpwMqoqWE4BhBGeOraoMyxsbpqhZ9Nt//NExJcgyx3QAMpGvHJZTTbXJUAYCDK4aMgE+TI4NEJt6AxZAuu3Vqv3wY5HKEFIOnlZvXlik3MRsJZ5TA0VhCKODCPpRAYS1g4cIZOjDBWDnYBqKHzUUHjmEcYMNKYM//NExGYiAxHYAMpGuRgEEQQCEtH8AxmQOODN8ycwY7wO4fSEdlMOSREKFJC0gikzaBqdKEss2dPZJKU1oCfdiNBTOE80ZmoFwRwhQCZWJEjDLlVHocLGo9VQmuKz0NWk//NExDEdAsHYAMpGudeSTUerBF+tsfEm2BCvCoK+NtSZgyNdSbYtdRPtG9V1KMzGvsjMxxsMvsZTDLqVWrC+VVUo2x+pbMGbLhvCh0EF82o+UDmLTc5nD4svoJkDiKwg//NExBAVsI3cAMMGTBYucFhtk/gcDggBTAxyDi0osiEQsJzQYCwDNEoRHF4YKOTuKPD63/BD+4vbf6pBRwvD8bE6w8IHBhQ5wgUGROfB+ET4nHheTEDlkTl8OA1S60+H//NExAwVgLXoAMJGTJgbE4IIBAYJ1plxX1IKB0IpoqK6MTIU8IBzQfB8ElHB4EeIKQy0aFz7ENcMpEAgrD8o4ahDO5Je91W2GJE2OSU2PAKEcXW0iFGJbQ1odtgV2Vvo//NExAkQQJ3wAMGMTPdMAEiBCWksJpeGlLh3CZ+cpJn9GyZAQKhYkZMjAs8sqaNBLfFnQrHurbczTSnanbTHZXR/v3frASAcZTn2bpsQYsJghztc8J62ZxnEOeskCKCg//NExBsSqG30AU8YAEVhwEwZITJ4YZFzYmQIR6DTDJJICct00eQzdcumu2/YF2OrSLIxZBHWoXd1IX2ORSEnkME/AbLa5zp5sOBenxeiofEDxQgQoIH1SRHMJoLiRldX//NExCMZUyoQAY8oAGfI5NLXKzVndZp2cya9TqSRVKyFO6/5DOeunudkb7/2zJsTW6IOValN9uv9hcTc4mLgQkOBwUzPQBg6HUEQBAplAVUyUfIg4pmxZCNJSL0flV7d//NExBATyDo8AZsYADdpbASBw6yZM3go9dxBrxSKEEJUElnEXpFiAdRGrrFDL40vGMKIQx1FEsgityFjqr7y8CFNRV4wVYmYA7wdyKpZllPVvzy5H3/w0nq63//R4DTu//NExBMXOlqMAZhQABcCweCkLgLzwvGj8CceFhZ+5m4xKiqaSfjwyeeeK5CQDw8l/se889Tyc040s//PcwxvNPJ0Y81i///V7/NWsrPs/7s+X6lKCTArA0Fqqnz8qjDJ//NExAkTYeKwAchAAKKYskRA7DtsULCYGg0G7sidkv/LTFVfdaQQ+RyfkCYbdogpD4/So3jeROaMcvcYt9yvpMVPvG/xXngg5xd6BQXJ1On+pUAju7r3ut/caJ1E1JSj//NExA4UIYK0ABLMlId4GzcfBqOxe97GK1HPfW/7hrZ26UxATt0jS49u17m0al4uFIyA7VeE0MJrFZQCh0uYPECMRhkXQgK3sBtghFf6frXVDcFwVq3Eq/z4E130F5tz//NExBAUuYKwAHpMlDybY6thIMA0zFCKuy3OSS2/Jfbxv9ao7XmPJwY6jr03ZaZ/nK37WdJTWvDqN4KgINQE+eXLDhe5R5CEliTnzrlPX9L+ZA1u8rj601Wssb3AwDxo//NExBARGJrAAMPeTKcIwzuI7xLqlXDcQmCyE4T7Qc5Y3sI52loRMiinCc8TAQIiouCaA4LZCHlvVQ1Kf///0W01/loFIavelaQVvcFq1ZVUf3HAu4+7YO01vgtYlF0N//NExB4RwXK8AMPOlLjYI2ZEfkhNvUo64+IbrGX7VMeFz3URlqHZU3E3fRqEOZjlpeSs///pwzlABY3l+UpIWdtHTzxwdM/MELrfhn35S233Kps2RKBrU9EFiUXBL7qc//NExCoRORq8AMPecBPmaf9Z+lzG+UTvXZf84+mt2Qh2dUdKv///1NZR0Q2u7lJEP8s39Jn700is8zVGa7CtfDc79VL/BWfdTOXkG82bwMvFG4A8/AHiEopBEZokM1xK//NExDgSQUq0AMvWlIfJrcooV9cP+V55T1P///oo3hLwc0inOTZlJjogcP3v4wyMOR3HOTnwZ1GZ8Hq4cyUR0r5qPsKhwH9nRxV8mK78Jyx0wuUsZHnVipOb+u3msT9g//NExEISAVawAMLYlG3nf//9S9ULYgZCRGqzBii9vTJwUSt8qDt4khfU+Dtec9jfhugPBnCgHj7WcfUfv3lcsb69/r5fxYcNHuN47348b5a6Uo2O9Faf//9NFftQCfVJ//NExE0R2VqsANLelEFvp5A91Oi+5onDNEASc1Ks30rP5+j0n0CVkgrDUknjUtbNXDeb84iaHlwk/IjyQCaMaUd6f/35Bzvt/5zd0mULoAKRkqLyLKmvqf////7F/9////NExFgQ+RasAMDWcP//+yN/UiErOTkWp91rq51dGIzHOxFId8igZ0dCbHkIVwhAAWpHPd2BOH7wAJ48lUoEb3/////////8z//zF6z9QkymvxdJlTW7Ml+m1OPqruVT//NExGcQ2qK8AGhEucmCDaY3HRVwSrwguxiC4mgKILiKPH5Aw8QBRRhsniijDSJVPgAP/////P/P//8TxM42dnuLc1ySHpxmgrFGTFEjLFIHjYkWsWseNthPu5zwYh1m//NExHYRUxa8ADgQuDIDpj6OYew4eI9yHYqSeQDdiAgNnD4PRc8PEFQG/////8qm//////+zMzMzMz2zM58zlsjzvfln+sxtXFkNX1xwvXzHmlhdVOysObqER+vOVLUS//NExIMSgxq4ACgQvcOCyuXFI0eXkku2fLRcXlRUqSD622ZjwVqvmhEPyOfEQ/REsIUsIdrT89MyOe8QcBte7qoJi5xE585NZ1eAjZjsaKueY9GGMcGY+v84QL/m7TNJ//NExIwbCyKsAChYvNpO7Tt3M+1bxza25p4284xJ0vXr0S5KeR+8tLyswYaT3WOp4mlpkdUMENkwXl5eWDY184QC0YrHDAlCDG+hymMLry6uOi6WXV5ijWqjZKVymqhA//NExHIfIxqoAChYvakQRD9ePsMuvPE6k5dwc4mZOzMGIuT8LqAKxa3zAyPHQp2PEAUFKBuAICwHxGIDg0Xndrb6bi1rZLhK3/dKp4bnr7uKrh5vhpZdm/4/5q4ZDmG0//NExEgf0x6oAHoQvLVzKrWHQCw9vmGkmCpsoWHioqKxDm00HOrHXPLEirFA2OxhwhCNs61rjFUYc4qSaosPJFTa1FWqpLT+AS0oE3xUIGUFg4C4xk2JlEw0OVvMSDdW//NExBsYgVqkANYMlBlLd3XVdBDR85pYBtZAsGZWssd5wkw4Rlblv1JRPYUkt/O3Z9lO+7OGnVCaOmGtRRZ6e457HIhYwHtFaYFL///90Pa6FEYe7quaf8t8lMT7qU5n//NExAwRSV6sAMvUlWKpYgh+mNHgBGFDzOEbtUSYpHEEiIo2yB3KquVV/Cm+If8u/Jcq2PsoO4xvD5nJXy+GCMMBYWWL41XHGmNi6mxTeEk56JFiiGKrdRoQqJBZcNtJ//NExBkSSWqwAMxMlCDVSJiJCLYeGNA4xR1DqJt1mrZ7MnrQbnfvmctDOdmdecDbnJ/9OzgO6BSCDJIYayrfYoc5JQLagMFXV+IShrS3YVXkG7i7L11VV+PlKts9NLSD//NExCISYUasAM4QcJUHVm5AB7hfKF7gWnh62f1TxvxNKsKHJh8360P1GAgBQsJDv////qqljCq5ruoKJxpDuEdFmVCA6Bos9XWiy0YyDuNjtEB1dWrV28AGnDSQeqP///NExCsSYU6cANPKlK1vM/xC/yCtEeE1qCNIXLoLP8RZEESzxY9////q4aqGm4ioOMhQAxiCGNigUMPEVcEsEYZKA4+yrXd2Abm+dh43gHQ/quRXkdqEJclue1H9Rn85//NExDQSGP6MAOPScP0z6RsLLkwZZRkQ0TX/////zqPyFcpUhieOclCi08VBAGDNngsdPXBm2np8EwEZ8I33Cyk3uQzVnwGGuGcFLdBvpneJ9A1ooDEmtNyMAgktn1p0//NExD4RmPqIANvWcJyKU//+RV+tCoq7DWDsD9ItfCtJjoJSy8wgCUZs6os67jEKcVDby6rcw3JYsLze1q4Xtn/+77rpJ28mrPfX19/////jO3u2iNIZf0yGTP0zwQII//NExEohExKMANrMuCQACMtkCGZQQYQfX3QRDvRkIEIxPYgxyEueF3pSCd0CEEHTPQLAZOgQhB5mOZjSA0+5OiENh87CDsQqSTEiBGQ7jIiy1Gps62//81////////////NExBgXqxawAJBMuf////9vbePcFydRtNP2NJXlGFF49snB/ia2y66bQ6bUqgMlbFIa0NyjU0/oAjL0PNYzg5wQ4un+43wm6R+UEIGKC0yIWVjdcxwAF//v///Hund3//NExAwTcx60ADgMvLi++T2Tiu56MWaWcC5f2ESRTy1PJBk6Bie0ScCSlZdSYgqMrd6kNMRjlojYPRvlnnoiOWOEkjTlkiwW8DETQg7C9WeA9v/7/60fxulXeVeR0v9J//NExBESExq4ADgMvWa+rns7sZ8tDPeXFzlfMXiGJzkb5QKlRqRkSTmWeKaegURY7JsHsyzYJuD6QOXnFHAYPL25IwBV43////B//////////5fw/2r3WEl4j9T9c4cU//NExBsQKxLEABBGuM2OVJsW9+dzMd6o0IX9ttaIfStjhjpmJRghrGDm5YQ8qFI2xIlC4v///5x////////LyyJwrzO6+KhH/nf+FXv5upJDNyLJZGNlVScwRJtqVVXS//NExC0Pwx7EAAhGvNEz9vaHmZy2mDFkDadevSEIPQX6EJdf/keEYzf/+23//ymf/zLNW8zdW254XY6dkMgsTVGPsXPJmP4ZndluRLaVupsfxYRKoz9cqpYwQYyFG5YQ//NExEESqxa8ABBGudTZnQVWaUKQmz3cy4AnADA4KnOpgAy0obflg8pbnp0QkmOwgMKJMHuSdZ3/TyyUSyyp3XArg0nlXf12aFMJbedRKncqCrjsFXIChVLD3SEMoeO3//NExEkQeIa0AHsMSC+hAJSo70wZtnjVF2QLKuwAOo3ikAXzRZUkYTNidksZPZDGbVtGxpsLfPyvl5DKgCOo////+hXX2BHcJ0T9IQxB6bdYLGOwzuXWQtWLagNcKAAa//NExFoPeUKoANPKcPnBlgI0E+HjIfKDMd/p9etF9XyNUmU+MA9EfjT1BHmF5H///phj9SiCxx4MnB8LPwwKNAiVEWRgnKPcqSPgmTFzmQugAGgDTorkwA8ECwU+xOoq//NExG8RKVKkAMzKlJj/Mf6uY9S+pLUjigHNDCOo86isA6yDFH///2/0VbPbzFijpG6QhgPBFG/NEdKQTmyIBgQIBHicAzZ4Zg3MwQMSfyJ6ZJPWf1n9Xto2NfK+VqgE//NExH0RyVKgANUOlEw/xVqgAeIAVqDrf//9Z6744oqzlKQaRiyDLpACg4oBKAYAjBoASDrslAzgL6YzgHKYtpgFtwMPBhMUC8pZTQzPrfV19ej1O5KpMJWcqdmajcjM//NExIgR2V6gANUKlBUdUvU7///xWuWFpjttVq5BAEMwhY7GgQ8M05Twi6nYDBSID8EmAKWHUK0CHoAbR2jnibjEzciLVt0tNv1jybhe8MzCqVBCj/6VqASmnu/////r//NExJMSIV6kANzOlEfnFC781PIx4ECBhkwa8otswQ8xqI57AFatTDhKmSKW0WiYcWeQq21qNuTPVYzUtdMz5kzfFKNkpMqkGAgd89JPFXRKCtUYDoHmSDguaTBl5ICZ//NExJ0SgUqgANTGlGtpDyVM2JXtLIDBuBBjNYnO71QkyJQDCDO4GaPAAnBAAcXd2ACLj8RKBi4HxAkVBx1S3aav/4Yq8/J3Qx//1lVF3gjAaxKGGjAnzVvyi8hJMkSH//NExKYRSO6AANYGcIQp9YSQXr2VjGo4UGNAiPHqkZnm3FwnfsrDRXHuzJNXHIiTVEPYjpUcZDzwcm9nbR4vPDENIAxpQ8gRtI5MIDJYAhUni3BKmMzPtbk/62G+9q4Z//NExLMS+SJ4ANJGcBq9+5/fv2kS1owIuBw6aavj8QHn+Z20mB8D/eRs63NxqrlMYTUB7y5wS5OOaQDmNUmmBuIio7+NMhLpSNyvW2XMCzyV7NNC0/xveL2SLihijI4x//NExLoh0fKEANPSmUnovjKSK3FclhhZ3BWsSzBcH+j4X4KEJZmUs9GTeDfbmYY6gflI5vHsYuxOnd7Ef0kUt3YwQu0eofeBq3xR0ZWXxQxMRQ4VCih4aDgkyShnNFAU//NExIUcWVqQANPelNxvK8UFKERoCBNhiUMjcvtfcr5G8IZtA4JQAhK07k3kXW2xrWnEfDxrqbN/ikUIVywphFEeEX///QqUEgA2E1u5jdZogJYFhyxIUAh0FXrKV6/V//NExGYTGVKcANJSlK7QlPoVc/tJxjgua6eO7xtyl4wuJ1CqJSnFLAImTMNRYhZtDn/WajKV51d+0simzg2aeEmBgG3AUKOQHmbmCq5jQCYAIAoKSUDCUsodxrLJSAkX//NExGwSsUaMANPScYCJVFygsG4hkYG45JmatT9yjjSysRGhIcHABI/UgbCC3etlgF2n3GCFoe16h+ZQsusyY9pZjQ6jAZkZgaUPJKmCSpM6lwnYbhDTTOo3GbdbNqSq//NExHQQwNqAANsMcGkldsMHkZMeHTRq1gmz/kk/v9GOCHHBx0qI88eYcTahVGTDwIcCUHGxDDiI6QWlfFten4xle3HK6ORgOBbcps4Xh85pnTRkiLQBEw6EhR4ds//2//NExIQQ+N58ANPScJT9v/Vod4hk2aDIuPdYwLCTyVRdAxJ8iDIaRj30RCaLxBIDSH8uKi8oOmB963ffcXt63QzH10ciBV/hFWAKLPQ/hUfeixBP0f//rlP//8gfk4dH//NExJMRQN50ANvMcGjQjgUm5FgcUGRUqqEZBtrDDnb8RmCejlhicUdJR1Zen8+81Rk6NPa/Q48UBVHv+ymQhx5BywOOb//9CSEQH11qSij+qtrE9qWVkEFRkwA4adKj//NExKETAU58ANrGlEoQsLbmXpja2hsVk2DBASSo2TNXbZ3+slziAgExqMdHRXYrklcYgfEhHiwgSaOkb2///pFD3+//+y5Cd4ySciPGZjEycBJRYQZccDRokKZ+g7Hr//NExKgSsV6MANKKlHowRBZUMkuvt/VkMImERAAnKVEKgsoqYyldSob/8yGUVI////Ynirrf+3/oNOFDO9Y0EhOugzbicxwbLgK6Ya1hxGXR+M0titGsO/r/7/1S/zv8//NExLARKRKQANHKcGM+UKoWHgkCqwmGsqsymhwhVp/0fd/ZZ+r/5rK53TVBdeRcRww2cSLcS69bjoShGTl7X5eiO73MB6GgnwCbAGn58kDRMHEF3Jci/Mzd7jLAcii4//NExL4RAVaEANFKlBcP0GTL6jQZYk4mgehoK//T4+jBnAmgmBKDK/6CBps9hJBgWGEKDFgmY7//9D/UIALQYcmjzJcwQBCBsJcq//9umm1v5NKZcGOVDuKzc8PRZ0ky//NExM0RWMpUAVsYAF0LhUgwQNMyMMIyAKuEysWQGaDAp2PD+yln8EHDShCcvJOMEPU2BKgCeTE1OspF0plIDPBwACYCKiTDEkTEchWTTjgCwAEQIYD0BsGpI0kUUdeJ//NExNoh8yp0AZloALArglA0CYI29GyuslCsYMdBxjLHgxORSSSa//OkuUFum/XdHmTuv9uyP2WnN3yxYfFn/9vDCFJWIvcWHmwamgTZeIOIXxeZZgYUBSTHPEUpDmMF//NExKUiKmqYAZpoABHEeuPrAsFdIDOVyr+Kx13louC1lkBZFq7JC46AFALSvvNy5VZxqWPO8nG2kgf+MQ3TSq3Kq2DtS+NRqvATstPr0le3ljamtVNU2cSn4z9LQXpD//NExG8iAcqsAZjAAA/KJ7X4f///4448/f/9m3s8G3f+v/6k/5YdkH8LriYxiZGSABAYFGUPIRBYJoID43QpkRuO+TOsu2guqhIWYllkQUuEuMVkpdsoUuMbF1gwKoA8//NExDohKc6oAZjAAWW+i9mB3fl7JW1im6F94FuvzHIcmp2R0FSXOU5WVLGYZfBd7rUMUzr2qTdmnwoZm1KpVRS2liWo1EZnu/33DX9q1bWXP5/ztat2NdIkcxzB7PE9//NExAgUQWq8Ac94AWJs1XpGGxjLQ5R/ZEiOg+TwcTWfHqxwzwZUOUwu6LNy7UtxmGHJvdcXzW9s3167xHvFu+jxs3rmNSub/OPfWs5+96rGkKTOk7rmJfG6KFuzK/Kr//NExAoU0Xa0AMPMlVqDpI8tKn6owUJ+KQPlRjlcDdHomQhKPSaJ0cI404JclyojvVXl9S2sxKoE+v1ZuTGFJnIESj9Dssyt/wp0txnrSkhEpnbQyzAVzgQ7Q2XLBz+q//NExAkRiXa8AHvGlAJDimXJaqUOVY5XtpoubElWIurtPKdmE+QhxMeFCmrJqvxrG0hqp8JYzm0a+HChFa+ZpDMy4SsrDEaS+/Wq1cB87FNMToROvHDkXXaRJZQENmGS//NExBUSAXa0AHvKlM56H3gr9Jk++TLJUCp2jYsle1683k/LG5MdLV43aKC6AejzRmMjHi8oY4fkitze7//9iP0KiwaKnhxysI9F8nAk9IOmAT424Bu0Nha54VX1qCbO//NExCARoXa0AMPOlIslTCN6ezn67+f9clV67Tq5nQLPEZym1GlaPNcwWx1yqr0///+2qqbBCzNYecG7psR0pcrHY7hj7cqHFDP6MwR8uNmNi2WTMwKW00a8LdN/Pu1k//NExCwRGXK0AHvKlPWzKt/MofAUj06uiu6IpjsJB8dep////RWOuwF5jC1k1hjysb0cw1To8mjEyKYjNDypMC0uPYGYCQKRBKyp+/9f67k99lsn/z55t3goSgAx9Nnp//NExDoRSXKsAHsGlPnrA1BVVx5n///0qpiHBMF+CZGy4kDOg6sBvIhlx8aC00ZIYNkarz89fOkyMkF0dQlKIOuRdn0qzoedpSnv0qRcdQ98qKohGBQ1169VVXFIBqAo//NExEcQGSacAMsOcemk10hmdNKWNAamLESayJJiOIES8blaHF7uqTgnRt3ZKLs52l5TGMLO7vbo6a1VVqERaHQo8QyJ4CiysmHe3//+v6UlHTIYgwUBMBDQQAP+pi1l//NExFkSMSp8ANMKcKS+zRoGsy3AuOrg4bHdUOwFKhYLIiBshwhCssnm75SjGLXqX/TusqiSsUqylLWkqiT31f///Q7pMxJAYU18QMhhBkEgEFlBmvCSUgJA2BsIwlCE//NExGMSAWZcANpElABIlx0fETWEQqCopMiIDRMiRNJESIGlnQaBoOzpYGn4drU+Cp1jtpEFiJUbxxVhP1bFoFAWoBPqCFcMKJWGFARIOHiwFWeOy2er/1vt/6bnpJVu//NExG4QwJ40ANMSTLN8sVnQoBRESCoVAQlIhMJAUREmhUYVIMCQ9JFq1SIwQBh/JdCBOmMETsAwDUcqErwGo0XZ/1UuJqFUmVNEbDIwVgmWMCrC5wGR4rMLDhdiHiF4//NExH4SEH3wAHiGSEJpbCh9D1dEW+31fY8aDFBoR6zys0cp+aeLz0tyi9LNXJ20zKKF6UXB9fKx158uzFHmSh++99ZZj6he4mWsgWsELWQi2RCzFJtZ0FpQauNi9QTi//NExIgQuFXwAMJGJFd0gfqB/jNg1ZAusyyjUzJ1v4kmUomUsge2XD9/3aJ2KQdMhIWCShuXSidkNMLspG6VkaWdBZUkDwJEmBE5KiLA/li9RcocHU5dRoLaLlVseV36//NExJgg0w3kAMGMuY1K87khJBaGInoLZgSlBAZSPnbJU1ZRAXL9jaLNuY1K9kZ5elruvuVa2zvrkNJVpUUJjVQpo4iU4gvKUhZGFZhlYHvWMiHVq8TIX52hKTDq6HFu//NExGcgkvncAMsGuXg5DI3VFOBUFXBAj9eWaM5ZiYpS4JxOCSoyBWoHFCWo4vwnkme+683Tj8pkFDLolLJywPB8IKoqSZClIn2tbrqy8go7FpMaazJj6JIImwVV6PTR//NExDcgExnYAMGGvS7OonFMpHlFdjeq47GEaESSQze2mdSQiIuHNzKvHhOaDVg7BKLggGLBmEIDMQosKBggjuADOJDsEw+TjKc3pS3M4VNcARzEKLnqEUA1sYTlWS/k//NExAkUeL3sAMJMTMxSkHCZzwSeWLE73W83FCZjpyUU6SUn40TrymwUJxQAgMNCsjIRVqEirUF1pQtVy7laqOp4iXmBqWsnlnKFHpJSEC1Ci1cmATMTkW1ZQ5DorKyN//NExAoSUHn0AHmGSEiwMUoYQAmHFODpixdCCCCD3C7z6WoGCAwF0j2gQ4QaxiFMLhcPraUmOUU4Xg+LvFN7LlOb/5c+GFMKLD6/+tUvoZyvSRJnCM7eqqIoo7VujyCJ//NExBMWWW30AHmGlCBcLUbO7MPLPNbEHnFGjkNIHsCUUhCNyVVUmZBXDY1Wr+cyV0W40IsNhnDiTg01ODdqTIWoAQ42FEC6DLlsJuF9KlWbxX0KBxGQlp1xluAUB1V3//NExAwSyOn8AMBGcMLhuX04xjHo3Ub5AWIV97ncuIh5ewQQcGn4vE4DKSC1LD6XSGsCDQ+AFxOfB+J1KggCByH8McM/1z+XLq3nyFVpMYVRMywU19GvRahnpTRBY1iL//NExBMTkPX4AMJGcGsWmhzYxjsaRbJtoKqyie4Um4x6l7CjEU6JRETyrpaeKxgFcHZ08N1PxE/5aJXLOldTwaqw0VPet3OkVRvFCbh1oxLKlXKUQjArMHzKIhLChZBN//NExBcR8HlkAHpMSEkicWWZYZBYJCoZMgsLiMyAhYVI/6RgsLkTILCwqGQECwuIzJkWFWf///+pvFmfrFVMQU1FMy4xMDBVVVVVVVVVVVVVVVVVVVVVVVVVVVVVVVVV\" type=\"audio/mpeg\" />\n",
              "                    Your browser does not support the audio element.\n",
              "                </audio>\n",
              "              "
            ]
          },
          "metadata": {}
        }
      ]
    }
  ]
}